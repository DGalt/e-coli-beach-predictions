{
 "cells": [
  {
   "cell_type": "code",
   "execution_count": 1,
   "metadata": {
    "collapsed": false
   },
   "outputs": [],
   "source": [
    "import read_data as rd\n",
    "import pandas as pd\n",
    "import numpy as np\n",
    "import csv\n",
    "import sklearn\n",
    "from sklearn.ensemble import GradientBoostingClassifier, RandomForestClassifier\n",
    "import matplotlib.pyplot as plt\n",
    "import seaborn as sns\n",
    "import visualizations as viz\n",
    "import matplotlib.cm as cm\n",
    "import itertools\n",
    "%matplotlib inline"
   ]
  },
  {
   "cell_type": "markdown",
   "metadata": {},
   "source": [
    "## Data Prep"
   ]
  },
  {
   "cell_type": "code",
   "execution_count": 2,
   "metadata": {
    "collapsed": false
   },
   "outputs": [],
   "source": [
    "clean_df = rd.read_data(read_drek=True, read_holiday=False, read_weather_station=False,\n",
    "                        read_water_sensor=False, read_daily_forecast=False, read_hourly_forecast=False,\n",
    "                        group_beaches=False\n",
    "                       )"
   ]
  },
  {
   "cell_type": "code",
   "execution_count": 3,
   "metadata": {
    "collapsed": false
   },
   "outputs": [],
   "source": [
    "drek_df = clean_df[['Drek_Prediction', 'Escherichia.coli']].copy().dropna()"
   ]
  },
  {
   "cell_type": "code",
   "execution_count": 73,
   "metadata": {
    "collapsed": false
   },
   "outputs": [],
   "source": [
    "df = clean_df.copy()\n",
    "df.drop(['Reading.1', 'Reading.2', 'Units', 'Sample.Collection.Time', \n",
    "         'Date', 'Laboratory.ID', 'Weekday', 'Beach', 'Year',\n",
    "         'Drek_Reading', 'Drek_Prediction', 'Drek_Worst_Swim_Status'], axis=1, inplace=True)\n",
    "df = df[~df['Escherichia.coli'].isnull()]\n",
    "df.rename(columns={'Full_date': 'Date', 'Client.ID': 'Beach'}, inplace=True)\n",
    "\n",
    "cleannames_file = '../data/ChicagoParkDistrict/raw/Standard 18 hr Testing/cleanbeachnames.csv'\n",
    "with open(cleannames_file) as f:\n",
    "    next(f)\n",
    "    cleannames_dict = {line[1]: line[3] for line in csv.reader(f)}\n",
    "    \n",
    "df.Beach.replace(cleannames_dict, inplace=True)\n",
    "\n",
    "df = df[~df.duplicated(subset=['Date', 'Beach'])]\n",
    "\n",
    "#we're just looking at years 2006-2014 for now\n",
    "df = df[df.Date.dt.year < 2015]"
   ]
  },
  {
   "cell_type": "markdown",
   "metadata": {},
   "source": [
    "### Getting values for previous day's e.coli levels"
   ]
  },
  {
   "cell_type": "code",
   "execution_count": 5,
   "metadata": {
    "collapsed": false
   },
   "outputs": [],
   "source": [
    "def get_prev_day(df, target, n=1):\n",
    "    if isinstance(target, str):\n",
    "        prev_target = str(n)+ '_prev_' + target\n",
    "    else:\n",
    "        prev_target = [str(n)+ '_prev_' + key for key in target]\n",
    "        \n",
    "    df = df.sort_values(by='Date').reset_index(drop=True)\n",
    "    df[prev_target] = df.groupby(['Beach', df.Date.dt.year]).shift()[target]\n",
    "\n",
    "    return df\n",
    "\n",
    "def get_prev_ecoli(df, option, n):\n",
    "    \"\"\"\n",
    "    Fills in e.coli reading values for previous day, depending on selected logic.\n",
    "    \n",
    "    Inputs\n",
    "    -------\n",
    "    df: pandas dataframe, with Date, Beach, and Escherichia.coli columns\n",
    "    option: 1, 2, or 3 (numeric)\n",
    "        1: just use the previous entry, regardless of whether it's the actual previous day\n",
    "        2: use the average for that particular week (Sun-Sat) to fill in NA values\n",
    "        3: use the average of the 5 previous days to fill in NAs.\n",
    "    \n",
    "    Returns\n",
    "    -------\n",
    "    df: modified dataframe with prev_Ecoli column\n",
    "    \"\"\"\n",
    "    if option == 1: \n",
    "        return get_prev_day(df, 'Escherichia.coli', n)\n",
    "    \n",
    "    else:\n",
    "        prev_df = pd.concat([df[df.Date.dt.year == year].groupby('Beach')\\\n",
    "                             .apply(lambda x: x.set_index('Date').resample('D').asfreq())\\\n",
    "                             .drop('Beach', axis=1).reset_index()\n",
    "                            for year in range(2006, 2015)])\n",
    "        prev_df = get_prev_day(prev_df, 'Escherichia.coli', n).drop(['Escherichia.coli'], axis=1)\n",
    "        prev_name = str(n) + '_prev_Escherichia.coli'\n",
    "        if option == 2:\n",
    "            \n",
    "            prev_df[prev_name] = prev_df.groupby(['Beach', prev_df.Date.dt.year, \n",
    "                                                                prev_df.Date.dt.week])[prev_name]\\\n",
    "                                                      .transform(lambda x: x.fillna(x.mean()))\n",
    "        else:\n",
    "            prev_df['mean'] = prev_df.groupby(['Beach', prev_df.Date.dt.year])[prev_name]\\\n",
    "                                     .apply(lambda x: x.rolling(min_periods=1, center=False, window=5).mean())\n",
    "            prev_df.loc[prev_df[prev_name].isnull(), \n",
    "                        prev_name] = prev_df['mean']\n",
    "            prev_df.drop(['mean'], axis=1, inplace=True)\n",
    "        \n",
    "        #any remaining nulls are replaced with average across all years excluding that year \n",
    "        for year in range(2006, 2015):\n",
    "            mean = df[df.Date.dt.year != year]['Escherichia.coli'].mean()\n",
    "            prev_df.loc[prev_df[prev_name].isnull(), \n",
    "                        prev_name] = mean\n",
    "            \n",
    "        return pd.merge(df, prev_df, on=['Date', 'Beach'], how='left')\n",
    "            "
   ]
  },
  {
   "cell_type": "code",
   "execution_count": 125,
   "metadata": {
    "collapsed": true
   },
   "outputs": [],
   "source": [
    "def get_prev_nday(df, target, n=1, mean_window=7):\n",
    "    min_yr = df.Date.dt.year.min()\n",
    "    max_yr = df.Date.dt.year.max()\n",
    "    yr_range = range(min_yr, max_yr+1)\n",
    "    \n",
    "    prev_df = pd.concat([df[df.Date.dt.year == year].groupby('Beach')\\\n",
    "                         .apply(lambda x: x.set_index('Date').resample('D').asfreq())\\\n",
    "                         .drop('Beach', axis=1).reset_index()\n",
    "                         for year in yr_range])\n",
    "    \n",
    "    if isinstance(target, str):\n",
    "        target = [target, ]\n",
    "    \n",
    "    prev_target = [str(n)+ '_prev_' + key for key in target]\n",
    "    prev_df[prev_target] = prev_df.groupby(['Beach', prev_df.Date.dt.year]).shift()[target]\n",
    "    prev_df.drop(target, axis=1, inplace=True)\n",
    "    \n",
    "    means = prev_df.groupby(['Beach', prev_df.Date.dt.year])[prev_target]\\\n",
    "                   .transform(lambda x: x.rolling(min_periods=1, center=False, window=mean_window).mean())\n",
    "    \n",
    "    prev_df[prev_target] = prev_df[prev_target].fillna(means)\n",
    "    \n",
    "    for yr in yr_range:\n",
    "        means = prev_df[prev_df.Date.dt.year != yr].mean()\n",
    "        prev_df.loc[prev_df.Date.dt.year == yr, prev_target] =\\\n",
    "        prev_df.loc[prev_df.Date.dt.year == yr, prev_target].fillna(means)\n",
    "        \n",
    "    \n",
    "    return prev_df  "
   ]
  },
  {
   "cell_type": "markdown",
   "metadata": {},
   "source": [
    "### Adding in lat & lon for each beach"
   ]
  },
  {
   "cell_type": "code",
   "execution_count": 5,
   "metadata": {
    "collapsed": false
   },
   "outputs": [],
   "source": [
    "beach_locs = pd.read_csv('../data/ExternalData/Beach_Locations.csv')\n",
    "beach_locs.Beach.replace(cleannames_dict, inplace=True)\n",
    "beach_locs = beach_locs.groupby('Beach').mean().reset_index()"
   ]
  },
  {
   "cell_type": "markdown",
   "metadata": {},
   "source": [
    "### Forecast.io data"
   ]
  },
  {
   "cell_type": "markdown",
   "metadata": {},
   "source": [
    "Daily forecast data"
   ]
  },
  {
   "cell_type": "code",
   "execution_count": 127,
   "metadata": {
    "collapsed": false
   },
   "outputs": [],
   "source": [
    "forecast = pd.read_csv('../data/ExternalData/forecastio_daily_weather.csv')\n",
    "forecast.time = pd.to_datetime(forecast.time)\n",
    "forecast.rename(columns={'time': 'Date', 'beach': 'Beach'}, inplace=True)\n",
    "forecast.Beach.replace(cleannames_dict, inplace=True)\n",
    "forecast = forecast[~forecast.duplicated(subset=['Date', 'Beach'])]"
   ]
  },
  {
   "cell_type": "markdown",
   "metadata": {},
   "source": [
    "Hourly forecast data"
   ]
  },
  {
   "cell_type": "code",
   "execution_count": 7,
   "metadata": {
    "collapsed": false
   },
   "outputs": [],
   "source": [
    "hr_forecast = pd.read_csv('../data/ExternalData/forecastio_hourly_weather.csv')\n",
    "hr_forecast.time = pd.to_datetime(hr_forecast.time)\n",
    "hr_forecast.rename(columns={'time': 'Date', 'beach': 'Beach'}, inplace=True)\n",
    "hr_forecast.Beach.replace(cleannames_dict, inplace=True)\n",
    "hr_forecast = hr_forecast[~hr_forecast.duplicated(subset=['Date', 'Beach'])]"
   ]
  },
  {
   "cell_type": "markdown",
   "metadata": {},
   "source": [
    "### Misc other feature engineering"
   ]
  },
  {
   "cell_type": "code",
   "execution_count": 9,
   "metadata": {
    "collapsed": true
   },
   "outputs": [],
   "source": [
    "df['week'] = df.Date.dt.week\n",
    "df['weekday'] = df.Date.dt.weekday"
   ]
  },
  {
   "cell_type": "code",
   "execution_count": null,
   "metadata": {
    "collapsed": false
   },
   "outputs": [],
   "source": [
    "navy_pier = 41.8916\n",
    "df['n_pier'] = df.Latitude > navy_pier"
   ]
  },
  {
   "cell_type": "code",
   "execution_count": null,
   "metadata": {
    "collapsed": false
   },
   "outputs": [],
   "source": [
    "#these bins are based on the forecast.io docs on rain intensity \n",
    "bins = [-float('inf'), 1e-12, 0.002, 0.017, 0.1, 0.4, float('inf')]\n",
    "labels = list(range(len(bins)-1))\n",
    "for col in ['prev_precipIntensity', 'prev_precipIntensityMax', 'hr4_precipIntensity']:\n",
    "    df[col + '_cat'] = pd.cut(df[col], bins=bins, labels=labels).tolist()\n"
   ]
  },
  {
   "cell_type": "markdown",
   "metadata": {},
   "source": [
    "## Models"
   ]
  },
  {
   "cell_type": "code",
   "execution_count": 10,
   "metadata": {
    "collapsed": false,
    "scrolled": false
   },
   "outputs": [],
   "source": [
    "def run_model(df, model, predictors, target='Escherichia.coli', threshold=235, yrs=range(2006,2015), \n",
    "             leave_out_06=True, leave_out_07=True):\n",
    "    \n",
    "    full_model_df = df[['Date', target] + predictors].copy().dropna()\n",
    "    \n",
    "    for predictor in predictors:\n",
    "        if full_model_df[predictor].dtype == 'object':\n",
    "            full_model_df[predictor] = pd.Categorical(full_model_df[predictor]).codes\n",
    "    \n",
    "    if leave_out_06 and leave_out_07:\n",
    "        model_df = full_model_df[(full_model_df.Date.dt.year != 2006) &\n",
    "                                 (full_model_df.Date.dt.year != 2007)]\n",
    "    elif leave_out_06:\n",
    "        model_df = full_model_df[full_model_df.Date.dt.year != 2006]\n",
    "    elif leave_out_07:\n",
    "        model_df = full_model_df[full_model_df.Date.dt.year != 2006]\n",
    "    else:\n",
    "        model_df = full_model_df\n",
    "\n",
    "    \n",
    "    fits = {}\n",
    "    for yr in yrs:\n",
    "        model = sklearn.base.clone(model) \n",
    "        train = model_df[model_df.Date.dt.year != yr][predictors]\n",
    "        classes = model_df[model_df.Date.dt.year != yr][target] > threshold\n",
    "        \n",
    "        fits[yr] = model.fit(train, classes)\n",
    "        \n",
    "    return fits, full_model_df\n",
    "        \n",
    "def calc_metrics(model_df, predictors, fits, metrics=[], \n",
    "                 target='Escherichia.coli', threshold=235, gen_avg=False):\n",
    "    \n",
    "    calced_metrics = {}\n",
    "    avg_calced_metrics = {}\n",
    "    for metric in metrics:\n",
    "        yr_scores = {}\n",
    "        \n",
    "        for yr, fit in fits.items():\n",
    "            test = model_df[model_df.Date.dt.year == yr][predictors]\n",
    "            true_classes = model_df[model_df.Date.dt.year == yr][target] > threshold\n",
    "            \n",
    "            if 'roc' in metric:\n",
    "                preds = fit.predict_proba(test)[:,1]\n",
    "            else:\n",
    "                preds = fit.predict(test)\n",
    "        \n",
    "            yr_scores[yr] = getattr(sklearn.metrics, metric)(true_classes, preds)\n",
    "        \n",
    "        calced_metrics[metric] = yr_scores\n",
    "        if gen_avg:\n",
    "            try:\n",
    "                avg_calced_metrics[metric] = np.array(list(calced_metrics[metric].values()))\\\n",
    "                                               .mean(axis=0)\n",
    "            except ValueError: \n",
    "                print(\"Can't average %s\" %metric)\n",
    "                \n",
    "    return (calced_metrics, avg_calced_metrics) if gen_avg else calced_metrics\n",
    "\n",
    "def plot_roc(roc_dict, drek_df, roc_aucs=None):\n",
    "    colors = itertools.cycle(sns.color_palette('colorblind', 6))\n",
    "    \n",
    "    for yr, arrays in metrics['roc_curve'].items():\n",
    "        if roc_aucs is not None:\n",
    "            label = str(yr) + \" - AUC: {:0.4f}\".format(roc_aucs[yr])\n",
    "        else:\n",
    "            label = yr\n",
    "        fpr = arrays[0]\n",
    "        tpr = arrays[1]\n",
    "        if yr <= 2010:\n",
    "            plt.plot(fpr, tpr, label=label, color=next(colors))\n",
    "        else:\n",
    "            plt.plot(fpr, tpr, '--', label=label, color=next(colors))\n",
    "    \n",
    "    plt.plot([0, 1], [0, 1], 'r:')\n",
    "    fpr, tpr, _ = sklearn.metrics.roc_curve(drek_df['Escherichia.coli'] > 235, \n",
    "                                            drek_df['Drek_Prediction'])\n",
    "    \n",
    "    if roc_aucs is not None:\n",
    "        drek_auc = sklearn.metrics.roc_auc_score(drek_df['Escherichia.coli'] > 235, \n",
    "                                                 drek_df['Drek_Prediction'])\n",
    "        label = 'Drek - AUC: {:0.4f}'.format(drek_auc)\n",
    "    else:\n",
    "        label = 'Drek'\n",
    "        \n",
    "    plt.plot(fpr, tpr, 'k--', lw=2, label=label)\n",
    "\n",
    "    plt.legend(loc='lower right', fontsize=12)\n",
    "    plt.xlabel('False Positive Rate', fontsize=12)\n",
    "    plt.ylabel('True Positive Rate', fontsize=12)\n",
    "    plt.show()\n",
    "\n",
    "def get_feat_df(fits, predictors):\n",
    "    vals = [[yr, feat, imp] for yr, fit in fits.items() \n",
    "            for feat, imp in zip(predictors, fit.feature_importances_)] \n",
    "    \n",
    "    return pd.DataFrame(vals, columns = ['Year', 'Feature', 'Importance'])"
   ]
  },
  {
   "cell_type": "markdown",
   "metadata": {},
   "source": [
    "### GBM"
   ]
  },
  {
   "cell_type": "code",
   "execution_count": null,
   "metadata": {
    "collapsed": false,
    "scrolled": false
   },
   "outputs": [],
   "source": [
    "gbm_df = df.copy()\n",
    "\n",
    "### We want to previous day's forecast values\n",
    "# reordering forecast columns to make my life easier\n",
    "col_list = ['Date', 'Beach']+[col for col in forecast.columns \n",
    "                                  if col != 'Date' and col != 'Beach']\n",
    "gbm_forecast = forecast.copy()[col_list]\n",
    "gbm_forecast = get_prev_day(gbm_forecast, gbm_forecast.columns.tolist()[2:])\n",
    "\n",
    "cols = ['Date', 'Beach'] + [col for col in gbm_forecast.columns if 'prev' in col]\n",
    "gbm_df = pd.merge(gbm_df, gbm_forecast[cols], on=['Beach', 'Date'])\n",
    "\n",
    "### Just looking at the 4am time point\n",
    "time = 4\n",
    "col_list = ['Date', 'Beach']+[col for col in hr_forecast.columns \n",
    "                              if col != 'Date' and col != 'Beach']\n",
    "subhr_df = hr_forecast.copy()[hr_forecast.Date.dt.hour == time]\\\n",
    "                             [col_list].reset_index(drop=True)\n",
    "prefix = 'hr' + str(time) + '_'\n",
    "subhr_df.columns = col_list[:2] + [prefix + col \n",
    "                                   for col in col_list[2:]]\n",
    "subhr_df.drop(prefix + 'precipType', axis=1, inplace=True)\n",
    "subhr_df.Date = pd.DatetimeIndex(subhr_df.Date).normalize()\n",
    "\n",
    "gbm_df = pd.merge(gbm_df, subhr_df, on=['Beach', 'Date'])"
   ]
  },
  {
   "cell_type": "code",
   "execution_count": null,
   "metadata": {
    "collapsed": false
   },
   "outputs": [],
   "source": [
    "gbm_df.columns.tolist()"
   ]
  },
  {
   "cell_type": "code",
   "execution_count": null,
   "metadata": {
    "collapsed": false
   },
   "outputs": [],
   "source": [
    "ignore = ['Date','Beach','Escherichia.coli', '1_prev_summary', '1_prev_precipType', \n",
    "          '1_prev_precipIntensityMaxTime', 'hr5_summary', 'hr5_precipType'\n",
    "         ]\n",
    "predictors = [col for col in gbm_df.columns if col not in ignore]\n",
    "model = GradientBoostingClassifier(n_estimators=100, learning_rate=0.05,\n",
    "                                   max_depth=4, subsample=0.7, verbose=False)\n",
    "fits, model = run_model(gbm_df, model, predictors)"
   ]
  },
  {
   "cell_type": "code",
   "execution_count": null,
   "metadata": {
    "collapsed": false
   },
   "outputs": [],
   "source": [
    "metrics, avg_metrics = calc_metrics(model, predictors, fits, \n",
    "                                    metrics=['roc_curve', 'recall_score', 'roc_auc_score'], \n",
    "                                    gen_avg=True)\n",
    "\n",
    "plt.figure(figsize=(8,8))\n",
    "plot_roc(metrics['roc_curve'], drek_df)"
   ]
  },
  {
   "cell_type": "markdown",
   "metadata": {},
   "source": [
    "**Curious if any particular hour (0-6am) is best, or if a mean is best**"
   ]
  },
  {
   "cell_type": "code",
   "execution_count": null,
   "metadata": {
    "collapsed": false
   },
   "outputs": [],
   "source": [
    "col_list = ['Date', 'Beach']+[col for col in hr_forecast.columns \n",
    "                              if col != 'Date' and col != 'Beach']\n",
    "hr_forecast = hr_forecast[col_list]\n",
    "df_list = []\n",
    "for time in range(7):\n",
    "    subhr_df = hr_forecast[hr_forecast.Date.dt.hour == time]\\\n",
    "                          [col_list].reset_index(drop=True)\n",
    "    prefix = 'hr' + str(time) + '_'\n",
    "    subhr_df.columns = col_list[:2] + [prefix + col \n",
    "                                       for col in col_list[2:]]\n",
    "    subhr_df.drop(prefix + 'precipType', axis=1, inplace=True)\n",
    "    subhr_df.Date = pd.DatetimeIndex(subhr_df.Date).normalize()\n",
    "    subhr_df[prefix + 'summary'] = pd.Categorical(subhr_df[prefix + 'summary']).codes\n",
    "    subhr_df[prefix + 'icon'] = pd.Categorical(subhr_df[prefix + 'icon']).codes\n",
    "    \n",
    "    df_list.append(subhr_df)"
   ]
  },
  {
   "cell_type": "code",
   "execution_count": null,
   "metadata": {
    "collapsed": false
   },
   "outputs": [],
   "source": [
    "multi_hr = df_list[0]\n",
    "for hr_df in df_list[1:]:\n",
    "    multi_hr = pd.merge(multi_hr, hr_df, on=['Date', 'Beach'])"
   ]
  },
  {
   "cell_type": "code",
   "execution_count": null,
   "metadata": {
    "collapsed": false
   },
   "outputs": [],
   "source": [
    "for col in col_list[4:-1]: \n",
    "    hr_cols = ['hr' + str(time) + '_' + col for time in range(7)]\n",
    "    multi_hr['mean_' + col] = multi_hr[hr_cols].mean(axis=1)"
   ]
  },
  {
   "cell_type": "code",
   "execution_count": null,
   "metadata": {
    "collapsed": false
   },
   "outputs": [],
   "source": [
    "#multi_hr.columns.tolist()"
   ]
  },
  {
   "cell_type": "code",
   "execution_count": null,
   "metadata": {
    "collapsed": false
   },
   "outputs": [],
   "source": [
    "morning_df = pd.merge(df, multi_hr, on=['Beach', 'Date'])\n",
    "morning_df = pd.merge(morning_df, beach_locs, on='Beach')"
   ]
  },
  {
   "cell_type": "code",
   "execution_count": null,
   "metadata": {
    "collapsed": false
   },
   "outputs": [],
   "source": [
    "#ignore = ['Date', 'Escherichia.coli', 'Year', 'Longitude']\n",
    "#predictors = [col for col in morning_df.columns if col not in ignore]\n",
    "predictors = ['Latitude', 'hr5_windSpeed', 'hr5_windBearing', 'hr5_cloudCover',\n",
    "              'hr5_humidity', 'hr5_dewPoint', 'hr5_apparentTemperature', 'hr5_pressure']\n",
    "model = GradientBoostingClassifier(n_estimators=200, learning_rate=0.05,\n",
    "                                   max_depth=4, subsample=0.7)\n",
    "fits, model = run_model(morning_df, model, predictors)"
   ]
  },
  {
   "cell_type": "code",
   "execution_count": null,
   "metadata": {
    "collapsed": false
   },
   "outputs": [],
   "source": [
    "feat_df = get_feat_df(fits, predictors)\n",
    "pd.options.display.max_rows = 999\n",
    "#feat_df.sort_values(by=['Year', 'Importance'], ascending=[True, False]).groupby('Year').head(15)"
   ]
  },
  {
   "cell_type": "code",
   "execution_count": null,
   "metadata": {
    "collapsed": false
   },
   "outputs": [],
   "source": [
    "metrics, avg_metrics = calc_metrics(model, predictors, fits, \n",
    "                                    metrics=['roc_curve', 'recall_score', 'roc_auc_score'], \n",
    "                                    gen_avg=True)\n",
    "\n",
    "plt.figure(figsize=(8,8))\n",
    "plot_roc(metrics['roc_curve'], drek_df)"
   ]
  },
  {
   "cell_type": "markdown",
   "metadata": {
    "collapsed": true
   },
   "source": [
    "**Reproducing Kevin's stuff**"
   ]
  },
  {
   "cell_type": "code",
   "execution_count": 10,
   "metadata": {
    "collapsed": false
   },
   "outputs": [],
   "source": [
    "#Add columns for 1 through 7 previous day ecoli readings\n",
    "huge_df = df.copy()\n",
    "\n",
    "prev_days = [get_prev_ecoli(df, 3, i).drop('Escherichia.coli', axis=1) for i in range(1, 8)]\n",
    "for prev_df in prev_days:\n",
    "    huge_df = pd.merge(huge_df, prev_df, on=['Date', 'Beach'])\n",
    "\n",
    "#Get historical average across those 7 days\n",
    "prev_cols = [col for col in huge_df.columns if 'prev' in col]\n",
    "huge_df['historical_average_Escherichia.coli'] = huge_df[prev_cols].mean(axis=1)"
   ]
  },
  {
   "cell_type": "code",
   "execution_count": 12,
   "metadata": {
    "collapsed": false
   },
   "outputs": [],
   "source": [
    "#Add in historical averages for daily forecast of temperatureMin and temperatureMax\n",
    "kforecast = forecast.copy()\n",
    "kforecast = kforecast.sort_values(by=['Beach', 'Date'])\n",
    "kforecast['historical_average_temperatureMin'] =\\\n",
    "         kforecast.groupby(['Beach', forecast.Date.dt.year])['temperatureMin']\\\n",
    "                  .apply(lambda x: x.rolling(min_periods=1, center=False, window=3).mean())\n",
    "        \n",
    "kforecast['historical_average_temperatureMax'] =\\\n",
    "         kforecast.groupby(['Beach', forecast.Date.dt.year])['temperatureMax']\\\n",
    "                  .apply(lambda x: x.rolling(min_periods=1, center=False, window=3).mean())"
   ]
  },
  {
   "cell_type": "code",
   "execution_count": 13,
   "metadata": {
    "collapsed": true
   },
   "outputs": [],
   "source": [
    "hr_forecast = pd.read_csv('../data/ExternalData/forecastio_hourly_weather.csv')\n",
    "hr_forecast.time = pd.to_datetime(hr_forecast.time)\n",
    "hr_forecast.rename(columns={'time': 'Date', 'beach': 'Beach'}, inplace=True)\n",
    "hr_forecast.Beach.replace(cleannames_dict, inplace=True)\n",
    "hr_forecast = hr_forecast[~hr_forecast.duplicated(subset=['Date', 'Beach'])]"
   ]
  },
  {
   "cell_type": "code",
   "execution_count": 14,
   "metadata": {
    "collapsed": false
   },
   "outputs": [],
   "source": [
    "#Separate hourly data into multiple columns, add previous day columns as well\n",
    "col_list = ['Date', 'Beach']+[col for col in hr_forecast.columns \n",
    "                              if col != 'Date' and col != 'Beach' and col != 'precipType']\n",
    "hr_forecast = hr_forecast[col_list]\n",
    "hr_forecast = hr_forecast.sort_values(by='Date').reset_index(drop=True)\n",
    "hr_forecast = hr_forecast.groupby('Beach').apply(pd.Series.interpolate)\n",
    "\n",
    "df_list = []\n",
    "for time in range(24):\n",
    "    subhr_df = hr_forecast[hr_forecast.Date.dt.hour == time]\\\n",
    "                          [col_list].reset_index(drop=True)\n",
    "    prefix = 'hr' + str(time) + '_'\n",
    "    subhr_df.columns = col_list[:2] + [prefix + col \n",
    "                                       for col in col_list[2:]]\n",
    "    subhr_df.Date = pd.DatetimeIndex(subhr_df.Date).normalize()\n",
    "    subhr_df[prefix + 'summary'] = pd.Categorical(subhr_df[prefix + 'summary']).codes\n",
    "    subhr_df[prefix + 'icon'] = pd.Categorical(subhr_df[prefix + 'icon']).codes\n",
    "    \n",
    "    df_list.append(subhr_df)\n",
    "    \n",
    "multi_hr = df_list[0]\n",
    "for hr_df in df_list[1:]:\n",
    "    multi_hr = pd.merge(multi_hr, hr_df, on=['Date', 'Beach'])\n",
    "    \n",
    "target = multi_hr.columns.tolist()[2:]\n",
    "multi_hr = get_prev_day(multi_hr, target, 1).sort_values(by=['Date'])"
   ]
  },
  {
   "cell_type": "code",
   "execution_count": null,
   "metadata": {
    "collapsed": false
   },
   "outputs": [],
   "source": [
    "#put it all together\n",
    "huge_df = pd.merge(huge_df, multi_hr, on=['Beach', 'Date'])\n",
    "huge_df = pd.merge(huge_df, kforecast, on=['Beach', 'Date'])\n",
    "huge_df = pd.merge(huge_df, beach_locs, on=['Beach'])\n"
   ]
  },
  {
   "cell_type": "code",
   "execution_count": 19,
   "metadata": {
    "collapsed": false
   },
   "outputs": [],
   "source": [
    "#add column for n-s of navy pier\n",
    "navy_pier = 41.8916\n",
    "huge_df['n_pier'] = huge_df.Latitude > navy_pier"
   ]
  },
  {
   "cell_type": "code",
   "execution_count": null,
   "metadata": {
    "collapsed": true
   },
   "outputs": [],
   "source": [
    "predictors = [\"%s_prev_Escherichia.coli\" %i for i in range(1,8)] +\\\n",
    "             []"
   ]
  },
  {
   "cell_type": "code",
   "execution_count": 22,
   "metadata": {
    "collapsed": false
   },
   "outputs": [],
   "source": [
    "predictors = ['1_prev_hr13_temperature', 'precipIntensityMax', '1_prev_hr8_temperature',\n",
    "              'hr1_windBearing', 'cloudCover', '1_prev_hr11_temperature', 'windSpeed', \n",
    "              'hr3_windBearing', 'hr2_windBearing', 'hr2_cloudCover', '1_prev_hr15_temperature',\n",
    "              'humidity', 'hr4_windBearing', 'hr3_windSpeed', '1_prev_hr21_temperature', 'hr4_cloudCover',\n",
    "              'hr4_windSpeed', '1_prev_hr12_temperature', 'hr0_temperature', 'hr0_pressure', 'precipIntensity', \n",
    "              'hr2_windSpeed', 'sunriseTime', 'temperatureMin', 'hr1_windSpeed', 'hr0_cloudCover', \n",
    "              '1_prev_Escherichia.coli', '2_prev_Escherichia.coli', '3_prev_Escherichia.coli',\n",
    "              '4_prev_Escherichia.coli', '5_prev_Escherichia.coli', '6_prev_Escherichia.coli',\n",
    "              '7_prev_Escherichia.coli', 'n_pier', 'historical_average_Escherichia.coli'\n",
    "             ]\n",
    "model = RandomForestClassifier(n_estimators=2000, max_depth=6, n_jobs=-1, class_weight={0: 1.0, 1: 1/.15})\n",
    "fits, model_df = run_model(huge_df, model, predictors, leave_out_06=False, leave_out_07=False)"
   ]
  },
  {
   "cell_type": "code",
   "execution_count": 23,
   "metadata": {
    "collapsed": false
   },
   "outputs": [
    {
     "data": {
      "image/png": "[encoded data removed]",
      "text/plain": [
       "<matplotlib.figure.Figure at 0x7fc6e34e2198>"
      ]
     },
     "metadata": {},
     "output_type": "display_data"
    }
   ],
   "source": [
    "metrics = calc_metrics(model_df, predictors, fits, \n",
    "                       metrics=['roc_curve', 'recall_score', 'roc_auc_score'])\n",
    "\n",
    "plt.figure(figsize=(8,8))\n",
    "plot_roc(metrics['roc_curve'], drek_df, metrics['roc_auc_score'])"
   ]
  },
  {
   "cell_type": "code",
   "execution_count": null,
   "metadata": {
    "collapsed": false
   },
   "outputs": [],
   "source": []
  },
  {
   "cell_type": "code",
   "execution_count": null,
   "metadata": {
    "collapsed": false
   },
   "outputs": [],
   "source": []
  },
  {
   "cell_type": "code",
   "execution_count": null,
   "metadata": {
    "collapsed": true
   },
   "outputs": [],
   "source": []
  }
 ],
 "metadata": {
  "kernelspec": {
   "display_name": "Python 3",
   "language": "python",
   "name": "python3"
  },
  "language_info": {
   "codemirror_mode": {
    "name": "ipython",
    "version": 3
   },
   "file_extension": ".py",
   "mimetype": "text/x-python",
   "name": "python",
   "nbconvert_exporter": "python",
   "pygments_lexer": "ipython3",
   "version": "3.5.1"
  }
 },
 "nbformat": 4,
 "nbformat_minor": 0
}
